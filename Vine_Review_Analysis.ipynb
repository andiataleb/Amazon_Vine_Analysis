{
  "nbformat": 4,
  "nbformat_minor": 0,
  "metadata": {
    "colab": {
      "provenance": []
    },
    "kernelspec": {
      "name": "python3",
      "display_name": "Python 3"
    },
    "language_info": {
      "name": "python"
    }
  },
  "cells": [
    {
      "cell_type": "code",
      "execution_count": 3,
      "metadata": {
        "colab": {
          "base_uri": "https://localhost:8080/"
        },
        "id": "YKC4GQY-IO-C",
        "outputId": "cf2aca0f-097e-40e2-bc3f-7c0ecc61b064"
      },
      "outputs": [
        {
          "output_type": "stream",
          "name": "stdout",
          "text": [
            "\r0% [Working]\r            \rGet:1 https://cloud.r-project.org/bin/linux/ubuntu bionic-cran40/ InRelease [3,626 B]\n",
            "\r0% [Connecting to archive.ubuntu.com (185.125.190.36)] [Connecting to security.\r0% [Connecting to archive.ubuntu.com (185.125.190.36)] [Connecting to security.\r0% [1 InRelease gpgv 3,626 B] [Connecting to archive.ubuntu.com (185.125.190.36\r                                                                               \rGet:2 http://security.ubuntu.com/ubuntu bionic-security InRelease [88.7 kB]\n",
            "\r                                                                               \rGet:3 http://ppa.launchpad.net/c2d4u.team/c2d4u4.0+/ubuntu bionic InRelease [15.9 kB]\n",
            "\r0% [1 InRelease gpgv 3,626 B] [Waiting for headers] [2 InRelease 14.2 kB/88.7 k\r                                                                               \rHit:4 http://archive.ubuntu.com/ubuntu bionic InRelease\n",
            "\r0% [1 InRelease gpgv 3,626 B] [Waiting for headers] [2 InRelease 14.2 kB/88.7 k\r                                                                               \rIgn:5 https://developer.download.nvidia.com/compute/machine-learning/repos/ubuntu1804/x86_64  InRelease\n",
            "\r0% [1 InRelease gpgv 3,626 B] [Waiting for headers] [2 InRelease 14.2 kB/88.7 k\r                                                                               \rHit:6 https://developer.download.nvidia.com/compute/cuda/repos/ubuntu1804/x86_64  InRelease\n",
            "Hit:7 https://developer.download.nvidia.com/compute/machine-learning/repos/ubuntu1804/x86_64  Release\n",
            "Get:8 http://archive.ubuntu.com/ubuntu bionic-updates InRelease [88.7 kB]\n",
            "Hit:9 http://ppa.launchpad.net/cran/libgit2/ubuntu bionic InRelease\n",
            "Get:10 http://archive.ubuntu.com/ubuntu bionic-backports InRelease [83.3 kB]\n",
            "Hit:11 http://ppa.launchpad.net/deadsnakes/ppa/ubuntu bionic InRelease\n",
            "Hit:13 http://ppa.launchpad.net/graphics-drivers/ppa/ubuntu bionic InRelease\n",
            "Get:14 http://ppa.launchpad.net/c2d4u.team/c2d4u4.0+/ubuntu bionic/main Sources [2,235 kB]\n",
            "Get:15 http://ppa.launchpad.net/c2d4u.team/c2d4u4.0+/ubuntu bionic/main amd64 Packages [1,143 kB]\n",
            "Fetched 3,659 kB in 2s (1,760 kB/s)\n",
            "Reading package lists... Done\n"
          ]
        }
      ],
      "source": [
        "import os\n",
        "# Find the latest version of spark 3.0 from http://www.apache.org/dist/spark/ and enter as the spark version\n",
        "# For example:\n",
        "# spark_version = 'spark-3.0.3'\n",
        "spark_version = 'spark-3.2.3'\n",
        "os.environ['SPARK_VERSION']=spark_version\n",
        "\n",
        "# Install Spark and Java\n",
        "!apt-get update\n",
        "!apt-get install openjdk-11-jdk-headless -qq > /dev/null\n",
        "!wget -q http://www.apache.org/dist/spark/$SPARK_VERSION/$SPARK_VERSION-bin-hadoop2.7.tgz\n",
        "!tar xf $SPARK_VERSION-bin-hadoop2.7.tgz\n",
        "!pip install -q findspark\n",
        "\n",
        "# Set Environment Variables\n",
        "import os\n",
        "os.environ[\"JAVA_HOME\"] = \"/usr/lib/jvm/java-11-openjdk-amd64\"\n",
        "os.environ[\"SPARK_HOME\"] = f\"/content/{spark_version}-bin-hadoop2.7\"\n",
        "\n",
        "# Start a SparkSession\n",
        "import findspark\n",
        "findspark.init()"
      ]
    },
    {
      "cell_type": "code",
      "source": [
        "# Download the Postgres driver that will allow Spark to interact with Postgres.\n",
        "!wget https://jdbc.postgresql.org/download/postgresql-42.2.16.jar"
      ],
      "metadata": {
        "colab": {
          "base_uri": "https://localhost:8080/"
        },
        "id": "oS4OVH-rIkRm",
        "outputId": "765f1e9e-41d2-450d-f736-6f354437b51d"
      },
      "execution_count": 4,
      "outputs": [
        {
          "output_type": "stream",
          "name": "stdout",
          "text": [
            "--2022-12-21 04:07:58--  https://jdbc.postgresql.org/download/postgresql-42.2.16.jar\n",
            "Resolving jdbc.postgresql.org (jdbc.postgresql.org)... 72.32.157.228, 2001:4800:3e1:1::228\n",
            "Connecting to jdbc.postgresql.org (jdbc.postgresql.org)|72.32.157.228|:443... connected.\n",
            "HTTP request sent, awaiting response... 200 OK\n",
            "Length: 1002883 (979K) [application/java-archive]\n",
            "Saving to: ‘postgresql-42.2.16.jar’\n",
            "\n",
            "postgresql-42.2.16. 100%[===================>] 979.38K  5.54MB/s    in 0.2s    \n",
            "\n",
            "2022-12-21 04:07:58 (5.54 MB/s) - ‘postgresql-42.2.16.jar’ saved [1002883/1002883]\n",
            "\n"
          ]
        }
      ]
    },
    {
      "cell_type": "code",
      "source": [
        "from pyspark.sql import SparkSession\n",
        "spark = SparkSession.builder.appName(\"M17-Amazon-Challenge\").config(\"spark.driver.extraClassPath\",\"/content/postgresql-42.2.16.jar\").getOrCreate()"
      ],
      "metadata": {
        "id": "QH-ug5CJIkUa"
      },
      "execution_count": 5,
      "outputs": []
    },
    {
      "cell_type": "code",
      "source": [
        "from pyspark import SparkFiles\n",
        "url = \"https://s3.amazonaws.com/amazon-reviews-pds/tsv/amazon_reviews_us_Video_Games_v1_00.tsv.gz\"\n",
        "spark.sparkContext.addFile(url)\n",
        "df = spark.read.option(\"encoding\", \"UTF-8\").csv(SparkFiles.get(\"\"), sep=\"\\t\", header=True, inferSchema=True)\n",
        "df.show()"
      ],
      "metadata": {
        "colab": {
          "base_uri": "https://localhost:8080/"
        },
        "id": "lcVO3WjBIkXI",
        "outputId": "c2a8ef91-fb67-4f32-abef-2d37dd53d472"
      },
      "execution_count": 6,
      "outputs": [
        {
          "output_type": "stream",
          "name": "stdout",
          "text": [
            "+-----------+-----------+--------------+----------+--------------+--------------------+----------------+-----------+-------------+-----------+----+-----------------+--------------------+--------------------+-----------+\n",
            "|marketplace|customer_id|     review_id|product_id|product_parent|       product_title|product_category|star_rating|helpful_votes|total_votes|vine|verified_purchase|     review_headline|         review_body|review_date|\n",
            "+-----------+-----------+--------------+----------+--------------+--------------------+----------------+-----------+-------------+-----------+----+-----------------+--------------------+--------------------+-----------+\n",
            "|         US|   12039526| RTIS3L2M1F5SM|B001CXYMFS|     737716809|Thrustmaster T-Fl...|     Video Games|          5|            0|          0|   N|                Y|an amazing joysti...|Used this for Eli...| 2015-08-31|\n",
            "|         US|    9636577| R1ZV7R40OLHKD|B00M920ND6|     569686175|Tonsee 6 buttons ...|     Video Games|          5|            0|          0|   N|                Y|Definitely a sile...|Loved it,  I didn...| 2015-08-31|\n",
            "|         US|    2331478|R3BH071QLH8QMC|B0029CSOD2|      98937668|Hidden Mysteries:...|     Video Games|          1|            0|          1|   N|                Y|            One Star|poor quality work...| 2015-08-31|\n",
            "|         US|   52495923|R127K9NTSXA2YH|B00GOOSV98|      23143350|GelTabz Performan...|     Video Games|          3|            0|          0|   N|                Y|good, but could b...|nice, but tend to...| 2015-08-31|\n",
            "|         US|   14533949|R32ZWUXDJPW27Q|B00Y074JOM|     821342511|Zero Suit Samus a...|     Video Games|          4|            0|          0|   N|                Y|   Great but flawed.|Great amiibo, gre...| 2015-08-31|\n",
            "|         US|    2377552|R3AQQ4YUKJWBA6|B002UBI6W6|     328764615|Psyclone Recharge...|     Video Games|          1|            0|          0|   N|                Y|            One Star|The remote consta...| 2015-08-31|\n",
            "|         US|   17521011|R2F0POU5K6F73F|B008XHCLFO|      24234603|Protection for yo...|     Video Games|          5|            0|          0|   N|                Y|              A Must|I have a 2012-201...| 2015-08-31|\n",
            "|         US|   19676307|R3VNR804HYSMR6|B00BRA9R6A|     682267517|   Nerf 3DS XL Armor|     Video Games|          5|            0|          0|   N|                Y|          Five Stars|Perfect, kids lov...| 2015-08-31|\n",
            "|         US|     224068| R3GZTM72WA2QH|B009EPWJLA|     435241890|One Piece: Pirate...|     Video Games|          5|            0|          0|   N|                Y|          Five Stars|            Excelent| 2015-08-31|\n",
            "|         US|   48467989| RNQOY62705W1K|B0000AV7GB|     256572651|Playstation 2 Dan...|     Video Games|          4|            0|          0|   N|                Y|          Four Stars|Slippery but expe...| 2015-08-31|\n",
            "|         US|     106569|R1VTIA3JTYBY02|B00008KTNN|     384411423|Metal Arms: Glitc...|     Video Games|          5|            0|          0|   N|                N|          Five Stars|Love the game. Se...| 2015-08-31|\n",
            "|         US|   48269642|R29DOU8791QZL8|B000A3IA0Y|     472622859|72 Pin Connector ...|     Video Games|          1|            0|          0|   N|                Y| Game will get stuck|Does not fit prop...| 2015-08-31|\n",
            "|         US|   52738710|R15DUT1VIJ9RJZ|B0053BQN34|     577628462|uDraw Gametablet ...|     Video Games|          2|            0|          0|   N|                Y|We have tried it ...|This was way too ...| 2015-08-31|\n",
            "|         US|   10556786|R3IMF2MQ3OU9ZM|B002I0HIMI|     988218515|NBA 2K12(Covers M...|     Video Games|          4|            0|          0|   N|                Y|          Four Stars|Works great good ...| 2015-08-31|\n",
            "|         US|    2963837|R23H79DHOZTYAU|B0081EH12M|     770100932|New Trigger Grips...|     Video Games|          1|            1|          1|   N|                Y|Now i have to buy...|It did not fit th...| 2015-08-31|\n",
            "|         US|   23092109| RIV24EQAIXA4O|B005FMLZQQ|      24647669|Xbox 360 Media Re...|     Video Games|          5|            0|          0|   N|                Y|          Five Stars|perfect lightweig...| 2015-08-31|\n",
            "|         US|   23091728|R3UCNGYDVN24YB|B002BSA388|      33706205|Super Mario Galaxy 2|     Video Games|          5|            0|          0|   N|                Y|          Five Stars|               great| 2015-08-31|\n",
            "|         US|   10712640| RUL4H4XTTN2DY|B00BUSLSAC|     829667834|Nintendo 3DS XL -...|     Video Games|          5|            0|          0|   N|                Y|          Five Stars|Works beautifully...| 2015-08-31|\n",
            "|         US|   17455376|R20JF7Z4DHTNX5|B00KWF38AW|     110680188|Captain Toad:  Tr...|     Video Games|          5|            0|          0|   N|                Y|          Five Stars|Kids loved the ga...| 2015-08-31|\n",
            "|         US|   14754850|R2T1AJ5MFI2260|B00BRQJYA8|     616463426|Lego Batman 2: DC...|     Video Games|          4|            0|          0|   N|                Y|          Four Stars|           Goodngame| 2015-08-31|\n",
            "+-----------+-----------+--------------+----------+--------------+--------------------+----------------+-----------+-------------+-----------+----+-----------------+--------------------+--------------------+-----------+\n",
            "only showing top 20 rows\n",
            "\n"
          ]
        }
      ]
    },
    {
      "cell_type": "code",
      "source": [
        "# Create the vine_table. DataFrame\n",
        "vine_df = df.select([\"review_id\", \"star_rating\", \"helpful_votes\", \"total_votes\", \"vine\", \"verified_purchase\"])\n",
        "vine_df.show()"
      ],
      "metadata": {
        "colab": {
          "base_uri": "https://localhost:8080/"
        },
        "id": "ggbFlKfaIkaJ",
        "outputId": "62c12757-d8a2-4757-8b44-e550e3f4c778"
      },
      "execution_count": 7,
      "outputs": [
        {
          "output_type": "stream",
          "name": "stdout",
          "text": [
            "+--------------+-----------+-------------+-----------+----+-----------------+\n",
            "|     review_id|star_rating|helpful_votes|total_votes|vine|verified_purchase|\n",
            "+--------------+-----------+-------------+-----------+----+-----------------+\n",
            "| RTIS3L2M1F5SM|          5|            0|          0|   N|                Y|\n",
            "| R1ZV7R40OLHKD|          5|            0|          0|   N|                Y|\n",
            "|R3BH071QLH8QMC|          1|            0|          1|   N|                Y|\n",
            "|R127K9NTSXA2YH|          3|            0|          0|   N|                Y|\n",
            "|R32ZWUXDJPW27Q|          4|            0|          0|   N|                Y|\n",
            "|R3AQQ4YUKJWBA6|          1|            0|          0|   N|                Y|\n",
            "|R2F0POU5K6F73F|          5|            0|          0|   N|                Y|\n",
            "|R3VNR804HYSMR6|          5|            0|          0|   N|                Y|\n",
            "| R3GZTM72WA2QH|          5|            0|          0|   N|                Y|\n",
            "| RNQOY62705W1K|          4|            0|          0|   N|                Y|\n",
            "|R1VTIA3JTYBY02|          5|            0|          0|   N|                N|\n",
            "|R29DOU8791QZL8|          1|            0|          0|   N|                Y|\n",
            "|R15DUT1VIJ9RJZ|          2|            0|          0|   N|                Y|\n",
            "|R3IMF2MQ3OU9ZM|          4|            0|          0|   N|                Y|\n",
            "|R23H79DHOZTYAU|          1|            1|          1|   N|                Y|\n",
            "| RIV24EQAIXA4O|          5|            0|          0|   N|                Y|\n",
            "|R3UCNGYDVN24YB|          5|            0|          0|   N|                Y|\n",
            "| RUL4H4XTTN2DY|          5|            0|          0|   N|                Y|\n",
            "|R20JF7Z4DHTNX5|          5|            0|          0|   N|                Y|\n",
            "|R2T1AJ5MFI2260|          4|            0|          0|   N|                Y|\n",
            "+--------------+-----------+-------------+-----------+----+-----------------+\n",
            "only showing top 20 rows\n",
            "\n"
          ]
        }
      ]
    },
    {
      "cell_type": "code",
      "source": [
        "# 1 create a new DataFrame with the rows where total_votes count>=20 \n",
        "helpfulvotes_df = vine_df[vine_df[\"total_votes\"]>=20]\n",
        "helpfulvotes_df.show()"
      ],
      "metadata": {
        "colab": {
          "base_uri": "https://localhost:8080/"
        },
        "id": "v0GVfRXgIkeA",
        "outputId": "bde4894b-d7d7-4703-bd75-400d3eaf9d27"
      },
      "execution_count": 8,
      "outputs": [
        {
          "output_type": "stream",
          "name": "stdout",
          "text": [
            "+--------------+-----------+-------------+-----------+----+-----------------+\n",
            "|     review_id|star_rating|helpful_votes|total_votes|vine|verified_purchase|\n",
            "+--------------+-----------+-------------+-----------+----+-----------------+\n",
            "| R4PKAZRQJJX14|          1|           21|         34|   N|                N|\n",
            "|R2CI0Y288CC7E2|          1|           21|         35|   N|                Y|\n",
            "|R127WEQY2FM1T3|          1|          147|        175|   N|                Y|\n",
            "|R3EZ0EPYLDA34S|          1|           14|         31|   N|                Y|\n",
            "|R2FJ94555FZH32|          2|           55|         60|   N|                N|\n",
            "|R1U3AR67RE273L|          1|           51|         65|   N|                Y|\n",
            "|R3PZOXA5X1U8KW|          4|           31|         36|   N|                N|\n",
            "| R6KTC1OPIOIIG|          2|           19|         34|   N|                Y|\n",
            "|R36O341WWXXKNP|          5|           28|         31|   N|                N|\n",
            "|R3GSK9MM8DNOYI|          1|            4|         32|   N|                N|\n",
            "|R10LZVBLQHBVJ0|          2|          151|        198|   N|                N|\n",
            "|R1VR5GLGY1GE7N|          1|           49|         51|   N|                Y|\n",
            "|R3GUUC6NT4QMCL|          1|            5|         36|   N|                N|\n",
            "|R1ZSD020RT18I5|          1|            7|        139|   N|                N|\n",
            "|R113X48B575ASY|          1|           15|         45|   N|                N|\n",
            "| RJLYLGRYH7SFQ|          1|           34|        116|   N|                N|\n",
            "|R2OWDAR0EDEPTF|          1|           23|         28|   N|                N|\n",
            "|R3CICXKAHN6NUD|          1|            0|         23|   N|                Y|\n",
            "|R29BOS5HMAY1LO|          5|           88|        110|   N|                N|\n",
            "| R8WD0136CETA7|          2|           99|        119|   N|                N|\n",
            "+--------------+-----------+-------------+-----------+----+-----------------+\n",
            "only showing top 20 rows\n",
            "\n"
          ]
        }
      ]
    },
    {
      "cell_type": "code",
      "source": [
        "# Load in a sql funtion to use columns\n",
        "from pyspark.sql.functions import col"
      ],
      "metadata": {
        "id": "ewLOpXmyOKDZ"
      },
      "execution_count": 9,
      "outputs": []
    },
    {
      "cell_type": "code",
      "source": [
        "#Filter the new DataFrame to create a new DataFrame with all the rows where (helpful_votes/total_votes)>= 50%\n",
        "helpful_percent_df = helpfulvotes_df.withColumn('percent_helful', col(\"helpful_votes\")/col(\"total_votes\"))\n",
        "helpful_percent_df.show()"
      ],
      "metadata": {
        "colab": {
          "base_uri": "https://localhost:8080/"
        },
        "id": "lvi6nxEvNdyF",
        "outputId": "f31d8cdd-e118-47ac-ee8d-1ddbe2f39519"
      },
      "execution_count": 10,
      "outputs": [
        {
          "output_type": "stream",
          "name": "stdout",
          "text": [
            "+--------------+-----------+-------------+-----------+----+-----------------+--------------------+\n",
            "|     review_id|star_rating|helpful_votes|total_votes|vine|verified_purchase|      percent_helful|\n",
            "+--------------+-----------+-------------+-----------+----+-----------------+--------------------+\n",
            "| R4PKAZRQJJX14|          1|           21|         34|   N|                N|  0.6176470588235294|\n",
            "|R2CI0Y288CC7E2|          1|           21|         35|   N|                Y|                 0.6|\n",
            "|R127WEQY2FM1T3|          1|          147|        175|   N|                Y|                0.84|\n",
            "|R3EZ0EPYLDA34S|          1|           14|         31|   N|                Y| 0.45161290322580644|\n",
            "|R2FJ94555FZH32|          2|           55|         60|   N|                N|  0.9166666666666666|\n",
            "|R1U3AR67RE273L|          1|           51|         65|   N|                Y|  0.7846153846153846|\n",
            "|R3PZOXA5X1U8KW|          4|           31|         36|   N|                N|  0.8611111111111112|\n",
            "| R6KTC1OPIOIIG|          2|           19|         34|   N|                Y|  0.5588235294117647|\n",
            "|R36O341WWXXKNP|          5|           28|         31|   N|                N|  0.9032258064516129|\n",
            "|R3GSK9MM8DNOYI|          1|            4|         32|   N|                N|               0.125|\n",
            "|R10LZVBLQHBVJ0|          2|          151|        198|   N|                N|  0.7626262626262627|\n",
            "|R1VR5GLGY1GE7N|          1|           49|         51|   N|                Y|  0.9607843137254902|\n",
            "|R3GUUC6NT4QMCL|          1|            5|         36|   N|                N|  0.1388888888888889|\n",
            "|R1ZSD020RT18I5|          1|            7|        139|   N|                N|0.050359712230215826|\n",
            "|R113X48B575ASY|          1|           15|         45|   N|                N|  0.3333333333333333|\n",
            "| RJLYLGRYH7SFQ|          1|           34|        116|   N|                N| 0.29310344827586204|\n",
            "|R2OWDAR0EDEPTF|          1|           23|         28|   N|                N|  0.8214285714285714|\n",
            "|R3CICXKAHN6NUD|          1|            0|         23|   N|                Y|                 0.0|\n",
            "|R29BOS5HMAY1LO|          5|           88|        110|   N|                N|                 0.8|\n",
            "| R8WD0136CETA7|          2|           99|        119|   N|                N|  0.8319327731092437|\n",
            "+--------------+-----------+-------------+-----------+----+-----------------+--------------------+\n",
            "only showing top 20 rows\n",
            "\n"
          ]
        }
      ]
    },
    {
      "cell_type": "code",
      "source": [
        "#Filter the new df to retrieve rows where vine == 'Y'.\n",
        "paid_reviews_df = helpful_percent_df.filter(helpful_percent_df[\"vine\"] == \"Y\")\n",
        "paid_reviews_df.show() "
      ],
      "metadata": {
        "colab": {
          "base_uri": "https://localhost:8080/"
        },
        "id": "AdLekkVyLsGK",
        "outputId": "c0dce4b0-735e-40b5-961b-49a31469ae93"
      },
      "execution_count": 11,
      "outputs": [
        {
          "output_type": "stream",
          "name": "stdout",
          "text": [
            "+--------------+-----------+-------------+-----------+----+-----------------+-------------------+\n",
            "|     review_id|star_rating|helpful_votes|total_votes|vine|verified_purchase|     percent_helful|\n",
            "+--------------+-----------+-------------+-----------+----+-----------------+-------------------+\n",
            "|R3KKUSGFZWSUIY|          5|           56|         63|   Y|                N| 0.8888888888888888|\n",
            "|R10FO5UKKVZBK2|          3|           23|         23|   Y|                N|                1.0|\n",
            "| RM4KSGEOR7MU1|          5|           19|         24|   Y|                N| 0.7916666666666666|\n",
            "|R371M3ZU3ULQHM|          1|            0|         25|   Y|                N|                0.0|\n",
            "|R18YQ4NRL2373C|          3|            2|         28|   Y|                N|0.07142857142857142|\n",
            "| RG7VRMYLEXD23|          4|           22|         26|   Y|                N| 0.8461538461538461|\n",
            "|R11O4YSCPSNL6L|          3|           20|         26|   Y|                N| 0.7692307692307693|\n",
            "|R286MFBAJ8NPD6|          5|           46|         51|   Y|                N| 0.9019607843137255|\n",
            "|R1JRR530H4COA2|          5|           22|         28|   Y|                N| 0.7857142857142857|\n",
            "| RQ5WD90PUNBU9|          5|           21|         24|   Y|                N|              0.875|\n",
            "|R12648VHCQWUV9|          4|           21|         28|   Y|                N|               0.75|\n",
            "|R3KAW29CJ8L6DQ|          5|           17|         20|   Y|                N|               0.85|\n",
            "|R1OWK33OPI45KT|          5|           55|         58|   Y|                N| 0.9482758620689655|\n",
            "|R2UP7VTED8O425|          5|           35|         41|   Y|                N| 0.8536585365853658|\n",
            "|R3N4QAXTQCA1ED|          5|           18|         20|   Y|                N|                0.9|\n",
            "|R3EPHK0JGQGE91|          5|           21|         28|   Y|                N|               0.75|\n",
            "| RCP3KRO47S0GG|          4|           51|         58|   Y|                N| 0.8793103448275862|\n",
            "|R3JT907UUA1WUI|          4|           85|        103|   Y|                N| 0.8252427184466019|\n",
            "| RY0555ILXIYXW|          5|           38|         50|   Y|                N|               0.76|\n",
            "|R24PS9N276OXF4|          5|          241|        262|   Y|                N| 0.9198473282442748|\n",
            "+--------------+-----------+-------------+-----------+----+-----------------+-------------------+\n",
            "only showing top 20 rows\n",
            "\n"
          ]
        }
      ]
    },
    {
      "cell_type": "code",
      "source": [
        "unpaid_reviews_df = helpful_percent_df.filter(helpful_percent_df[\"vine\"] == \"N\")\n",
        "unpaid_reviews_df.show() "
      ],
      "metadata": {
        "colab": {
          "base_uri": "https://localhost:8080/"
        },
        "id": "7yI5YtyvLsMH",
        "outputId": "e1723d37-5c84-44cd-abab-6ff41dd12fb0"
      },
      "execution_count": 12,
      "outputs": [
        {
          "output_type": "stream",
          "name": "stdout",
          "text": [
            "+--------------+-----------+-------------+-----------+----+-----------------+--------------------+\n",
            "|     review_id|star_rating|helpful_votes|total_votes|vine|verified_purchase|      percent_helful|\n",
            "+--------------+-----------+-------------+-----------+----+-----------------+--------------------+\n",
            "| R4PKAZRQJJX14|          1|           21|         34|   N|                N|  0.6176470588235294|\n",
            "|R2CI0Y288CC7E2|          1|           21|         35|   N|                Y|                 0.6|\n",
            "|R127WEQY2FM1T3|          1|          147|        175|   N|                Y|                0.84|\n",
            "|R3EZ0EPYLDA34S|          1|           14|         31|   N|                Y| 0.45161290322580644|\n",
            "|R2FJ94555FZH32|          2|           55|         60|   N|                N|  0.9166666666666666|\n",
            "|R1U3AR67RE273L|          1|           51|         65|   N|                Y|  0.7846153846153846|\n",
            "|R3PZOXA5X1U8KW|          4|           31|         36|   N|                N|  0.8611111111111112|\n",
            "| R6KTC1OPIOIIG|          2|           19|         34|   N|                Y|  0.5588235294117647|\n",
            "|R36O341WWXXKNP|          5|           28|         31|   N|                N|  0.9032258064516129|\n",
            "|R3GSK9MM8DNOYI|          1|            4|         32|   N|                N|               0.125|\n",
            "|R10LZVBLQHBVJ0|          2|          151|        198|   N|                N|  0.7626262626262627|\n",
            "|R1VR5GLGY1GE7N|          1|           49|         51|   N|                Y|  0.9607843137254902|\n",
            "|R3GUUC6NT4QMCL|          1|            5|         36|   N|                N|  0.1388888888888889|\n",
            "|R1ZSD020RT18I5|          1|            7|        139|   N|                N|0.050359712230215826|\n",
            "|R113X48B575ASY|          1|           15|         45|   N|                N|  0.3333333333333333|\n",
            "| RJLYLGRYH7SFQ|          1|           34|        116|   N|                N| 0.29310344827586204|\n",
            "|R2OWDAR0EDEPTF|          1|           23|         28|   N|                N|  0.8214285714285714|\n",
            "|R3CICXKAHN6NUD|          1|            0|         23|   N|                Y|                 0.0|\n",
            "|R29BOS5HMAY1LO|          5|           88|        110|   N|                N|                 0.8|\n",
            "| R8WD0136CETA7|          2|           99|        119|   N|                N|  0.8319327731092437|\n",
            "+--------------+-----------+-------------+-----------+----+-----------------+--------------------+\n",
            "only showing top 20 rows\n",
            "\n"
          ]
        }
      ]
    },
    {
      "cell_type": "code",
      "source": [
        "from pyspark.sql.functions import count"
      ],
      "metadata": {
        "id": "ERLWqHy3vtm_"
      },
      "execution_count": 13,
      "outputs": []
    },
    {
      "cell_type": "code",
      "source": [
        "total_votes_unfiltered = vine_df.count()\n",
        "total_votes_unfiltered"
      ],
      "metadata": {
        "colab": {
          "base_uri": "https://localhost:8080/"
        },
        "id": "jVNdkRo83IpE",
        "outputId": "3bb6ec98-5312-40c7-8772-dfa465e0857c"
      },
      "execution_count": 15,
      "outputs": [
        {
          "output_type": "execute_result",
          "data": {
            "text/plain": [
              "1785997"
            ]
          },
          "metadata": {},
          "execution_count": 15
        }
      ]
    },
    {
      "cell_type": "code",
      "source": [
        "helpfulvotes_df_count = helpfulvotes_df.count()\n",
        "helpfulvotes_df_count"
      ],
      "metadata": {
        "colab": {
          "base_uri": "https://localhost:8080/"
        },
        "id": "GDbLs6BB4Ii5",
        "outputId": "2e0684b4-e952-49c3-ec9c-d470b786ec89"
      },
      "execution_count": 16,
      "outputs": [
        {
          "output_type": "execute_result",
          "data": {
            "text/plain": [
              "65379"
            ]
          },
          "metadata": {},
          "execution_count": 16
        }
      ]
    },
    {
      "cell_type": "code",
      "source": [],
      "metadata": {
        "id": "aPxnsOsn4d33"
      },
      "execution_count": null,
      "outputs": []
    },
    {
      "cell_type": "code",
      "source": [
        "# Number of 5-star Vine reviews\n",
        "paid_5star = paid_reviews_df[paid_reviews_df[\"star_rating\"] == \"5\"].count()\n",
        "paid_5star"
      ],
      "metadata": {
        "colab": {
          "base_uri": "https://localhost:8080/"
        },
        "id": "mpgwLzcLj0PW",
        "outputId": "7f484f0e-56bb-4a05-f2a9-6b5ba928e5fb"
      },
      "execution_count": 60,
      "outputs": [
        {
          "output_type": "execute_result",
          "data": {
            "text/plain": [
              "48"
            ]
          },
          "metadata": {},
          "execution_count": 60
        }
      ]
    },
    {
      "cell_type": "code",
      "source": [
        "# Total number of Vine reviews\n",
        "total_paid_reviews = paid_reviews_df.count()\n",
        "total_paid_reviews"
      ],
      "metadata": {
        "colab": {
          "base_uri": "https://localhost:8080/"
        },
        "id": "T635x8Umjzry",
        "outputId": "3e1a6952-8def-498b-a085-4993846ef44b"
      },
      "execution_count": 61,
      "outputs": [
        {
          "output_type": "execute_result",
          "data": {
            "text/plain": [
              "104"
            ]
          },
          "metadata": {},
          "execution_count": 61
        }
      ]
    },
    {
      "cell_type": "code",
      "source": [
        "# Percentage of 5-star Vine reviews\n",
        "paid_5star_percentage = paid_5star / total_paid_reviews * 100\n",
        "paid_5star_percentage"
      ],
      "metadata": {
        "colab": {
          "base_uri": "https://localhost:8080/"
        },
        "id": "JqZaR0Oc0-_K",
        "outputId": "fea5c7d6-627d-4e9f-bb33-d48fe87ddf2f"
      },
      "execution_count": 64,
      "outputs": [
        {
          "output_type": "execute_result",
          "data": {
            "text/plain": [
              "46.15384615384615"
            ]
          },
          "metadata": {},
          "execution_count": 64
        }
      ]
    },
    {
      "cell_type": "code",
      "source": [
        "# Number of 5-star non-Vine reviews\n",
        "unpaid_5star = unpaid_reviews_df[unpaid_reviews_df[\"star_rating\"] == \"5\"].count()\n",
        "unpaid_5star"
      ],
      "metadata": {
        "colab": {
          "base_uri": "https://localhost:8080/"
        },
        "id": "l2RGe3gg0P5-",
        "outputId": "9b5edec0-5699-4038-e393-d1c5bd44a9cd"
      },
      "execution_count": 63,
      "outputs": [
        {
          "output_type": "execute_result",
          "data": {
            "text/plain": [
              "20439"
            ]
          },
          "metadata": {},
          "execution_count": 63
        }
      ]
    },
    {
      "cell_type": "code",
      "source": [
        "# Total number of non-Vine reviews\n",
        "total_unpaid_reviews = unpaid_reviews_df.count()\n",
        "total_unpaid_reviews"
      ],
      "metadata": {
        "colab": {
          "base_uri": "https://localhost:8080/"
        },
        "id": "S681aaoeLsS1",
        "outputId": "a62ed2b2-1005-46e6-e9a1-912aa7590785"
      },
      "execution_count": 66,
      "outputs": [
        {
          "output_type": "execute_result",
          "data": {
            "text/plain": [
              "65275"
            ]
          },
          "metadata": {},
          "execution_count": 66
        }
      ]
    },
    {
      "cell_type": "code",
      "source": [
        "# Percentage of 5-star non-Vine reviews\n",
        "unpaid_5satr_percentage = unpaid_5star / total_unpaid_reviews * 100\n",
        "unpaid_5satr_percentage"
      ],
      "metadata": {
        "colab": {
          "base_uri": "https://localhost:8080/"
        },
        "id": "pYnLslPG0-WH",
        "outputId": "6c56f369-fb62-4fa6-a45f-38c3b8377901"
      },
      "execution_count": 67,
      "outputs": [
        {
          "output_type": "execute_result",
          "data": {
            "text/plain": [
              "31.312140942167755"
            ]
          },
          "metadata": {},
          "execution_count": 67
        }
      ]
    }
  ]
}